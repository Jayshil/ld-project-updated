{
 "cells": [
  {
   "cell_type": "markdown",
   "source": [
    "# Transformation of LDCs\n",
    "\n",
    "It is well known fact that the quadratic limb-darkening coefficients (LDCs) are strongly correlated to each other. There are several transformation presented in the literature (see e.g., [Pál 2008](https://academic.oup.com/mnras/article/390/1/281/974172?login=true), [Kipping & Bakos 2011](https://iopscience.iop.org/article/10.1088/0004-637X/730/1/50/meta) and [Howarth 2011](https://academic.oup.com/mnras/article/418/2/1165/1071889)). Among these, we use the one presented in [Kipping & Bakos 2011](https://iopscience.iop.org/article/10.1088/0004-637X/730/1/50/meta),\n",
    "\n",
    "$$w_1 = u_1\\cos{\\phi} - u_2\\sin{\\phi}$$\n",
    "$$w_2 = u_2\\cos{\\phi} + u_1\\sin{\\phi}$$\n",
    "\n",
    "It has been shown that above transformation, with $\\phi \\simeq 40^\\circ$, more or less remove the correlation between the coefficients.\n",
    "\n",
    "Now, it would be interesting to see if the given transformation also remove the bias of the theoretical LDCs with the retrieved LDCs from the TESS data. Therefore, in this notebook, we shall compute the transformation of each set of theoretical LDCs with the aforementioned equations. Later we compare this set of LDCs with the `juliet` retrieved LDCs (which were obtained from TESS data), and check the bias between the transformed LDCs and the observed ones.\n",
    "\n",
    "Well, although I started writing this notebook, I realised that, at the moment, I cannot test this hypothesis for I do not have posterior distributions of LDCs! Without such correlated distribution I cannot progress further!!!"
   ],
   "metadata": {}
  }
 ],
 "metadata": {
  "orig_nbformat": 4,
  "language_info": {
   "name": "python",
   "version": "3.8.8"
  },
  "kernelspec": {
   "name": "python3",
   "display_name": "Python 3.8.8 64-bit ('base': conda)"
  },
  "interpreter": {
   "hash": "77308f10e778eec9a13a21206849a589a8c13410aaae2405e5051cd249c67e86"
  }
 },
 "nbformat": 4,
 "nbformat_minor": 2
}