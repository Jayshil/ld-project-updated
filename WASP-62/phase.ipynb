{
 "cells": [
  {
   "cell_type": "markdown",
   "source": [
    "# To make a phase curve"
   ],
   "metadata": {}
  },
  {
   "cell_type": "code",
   "execution_count": 1,
   "source": [
    "import numpy as np\n",
    "import matplotlib.pyplot as plt\n",
    "import juliet as jl\n",
    "import matplotlib.gridspec as gridspec\n",
    "import seaborn as sns\n",
    "from matplotlib import rcParams\n",
    "from pylab import *"
   ],
   "outputs": [
    {
     "output_type": "stream",
     "name": "stderr",
     "text": [
      "/home/jayshil/anaconda3/lib/python3.8/site-packages/autograd/numpy/numpy_wrapper.py:20: DeprecationWarning: `np.int` is a deprecated alias for the builtin `int`. To silence this warning, use `int` by itself. Doing this will not modify any behavior and is safe. When replacing `np.int`, you may wish to use e.g. `np.int64` or `np.int32` to specify the precision. If you wish to review your current use, check the release note link for additional information.\n",
      "Deprecated in NumPy 1.20; for more details and guidance: https://numpy.org/devdocs/release/1.20.0-notes.html#deprecations\n",
      "  int_types = {_np.int, _np.int8, _np.int16, _np.int32, _np.int64, _np.integer}\n"
     ]
    }
   ],
   "metadata": {}
  },
  {
   "cell_type": "code",
   "execution_count": 2,
   "source": [
    "# For font etc. styling\n",
    "\n",
    "sns.set_context(\"talk\")\n",
    "sns.set_style(\"ticks\")\n",
    "\n",
    "# Fonts:\n",
    "rc('font', **{'family': 'serif', 'serif': ['Computer Modern']})\n",
    "rc('text', usetex=True)\n",
    "matplotlib.rcParams.update({'font.size':12})\n",
    "plt.rc('legend', **{'fontsize':12})\n",
    "\n",
    "# Ticks to the outside:\n",
    "rcParams['axes.linewidth'] = 1.2 \n",
    "rcParams['xtick.direction'] = 'out'\n",
    "rcParams['ytick.direction'] = 'out'"
   ],
   "outputs": [],
   "metadata": {}
  },
  {
   "cell_type": "code",
   "execution_count": 3,
   "source": [
    "# To load data from the folder\n",
    "dataset = jl.load(input_folder='multisector_in_transit_ExpMatern')"
   ],
   "outputs": [
    {
     "output_type": "error",
     "ename": "KeyboardInterrupt",
     "evalue": "",
     "traceback": [
      "\u001b[0;31m---------------------------------------------------------------------------\u001b[0m",
      "\u001b[0;31mKeyboardInterrupt\u001b[0m                         Traceback (most recent call last)",
      "\u001b[0;32m<ipython-input-3-14dd3fcee2b7>\u001b[0m in \u001b[0;36m<module>\u001b[0;34m\u001b[0m\n\u001b[1;32m      1\u001b[0m \u001b[0;31m# To load data from the folder\u001b[0m\u001b[0;34m\u001b[0m\u001b[0;34m\u001b[0m\u001b[0;34m\u001b[0m\u001b[0m\n\u001b[0;32m----> 2\u001b[0;31m \u001b[0mdataset\u001b[0m \u001b[0;34m=\u001b[0m \u001b[0mjl\u001b[0m\u001b[0;34m.\u001b[0m\u001b[0mload\u001b[0m\u001b[0;34m(\u001b[0m\u001b[0minput_folder\u001b[0m\u001b[0;34m=\u001b[0m\u001b[0;34m'multisector_in_transit_ExpMatern'\u001b[0m\u001b[0;34m)\u001b[0m\u001b[0;34m\u001b[0m\u001b[0;34m\u001b[0m\u001b[0m\n\u001b[0m",
      "\u001b[0;32m~/anaconda3/lib/python3.8/site-packages/juliet-2.1.2-py3.8.egg/juliet/fit.py\u001b[0m in \u001b[0;36m__init__\u001b[0;34m(self, priors, starting_point, input_folder, t_lc, y_lc, yerr_lc, t_rv, y_rv, yerr_rv, GP_regressors_lc, linear_regressors_lc, GP_regressors_rv, linear_regressors_rv, out_folder, lcfilename, rvfilename, GPlceparamfile, GPrveparamfile, LMlceparamfile, LMrveparamfile, lctimedef, rvtimedef, ld_laws, priorfile, lc_n_supersamp, lc_exptime_supersamp, lc_instrument_supersamp, mag_to_flux, verbose, matern_eps, pickle_encoding)\u001b[0m\n\u001b[1;32m    872\u001b[0m             \u001b[0;32mif\u001b[0m \u001b[0mlcfilename\u001b[0m \u001b[0;32mis\u001b[0m \u001b[0;32mnot\u001b[0m \u001b[0;32mNone\u001b[0m\u001b[0;34m:\u001b[0m\u001b[0;34m\u001b[0m\u001b[0;34m\u001b[0m\u001b[0m\n\u001b[1;32m    873\u001b[0m                 \u001b[0mt_lc\u001b[0m\u001b[0;34m,\u001b[0m\u001b[0my_lc\u001b[0m\u001b[0;34m,\u001b[0m\u001b[0myerr_lc\u001b[0m\u001b[0;34m,\u001b[0m\u001b[0minstruments_lc\u001b[0m\u001b[0;34m,\u001b[0m\u001b[0minstrument_indexes_lc\u001b[0m\u001b[0;34m,\u001b[0m\u001b[0mninstruments_lc\u001b[0m\u001b[0;34m,\u001b[0m\u001b[0minames_lc\u001b[0m\u001b[0;34m,\u001b[0m\u001b[0mlm_lc_boolean\u001b[0m\u001b[0;34m,\u001b[0m\u001b[0mlm_lc_arguments\u001b[0m \u001b[0;34m=\u001b[0m\u001b[0;31m \u001b[0m\u001b[0;31m\\\u001b[0m\u001b[0;34m\u001b[0m\u001b[0;34m\u001b[0m\u001b[0m\n\u001b[0;32m--> 874\u001b[0;31m                 \u001b[0mread_data\u001b[0m\u001b[0;34m(\u001b[0m\u001b[0mlcfilename\u001b[0m\u001b[0;34m)\u001b[0m\u001b[0;34m\u001b[0m\u001b[0;34m\u001b[0m\u001b[0m\n\u001b[0m\u001b[1;32m    875\u001b[0m \u001b[0;34m\u001b[0m\u001b[0m\n\u001b[1;32m    876\u001b[0m                 \u001b[0;31m# Save data to object:\u001b[0m\u001b[0;34m\u001b[0m\u001b[0;34m\u001b[0m\u001b[0;34m\u001b[0m\u001b[0m\n",
      "\u001b[0;32m~/anaconda3/lib/python3.8/site-packages/juliet-2.1.2-py3.8.egg/juliet/utils.py\u001b[0m in \u001b[0;36mread_data\u001b[0;34m(fname)\u001b[0m\n\u001b[1;32m    329\u001b[0m             \u001b[0mfs\u001b[0m \u001b[0;34m=\u001b[0m \u001b[0mnp\u001b[0m\u001b[0;34m.\u001b[0m\u001b[0mappend\u001b[0m\u001b[0;34m(\u001b[0m\u001b[0mfs\u001b[0m\u001b[0;34m,\u001b[0m\u001b[0mnp\u001b[0m\u001b[0;34m.\u001b[0m\u001b[0mdouble\u001b[0m\u001b[0;34m(\u001b[0m\u001b[0mf\u001b[0m\u001b[0;34m)\u001b[0m\u001b[0;34m)\u001b[0m\u001b[0;34m\u001b[0m\u001b[0;34m\u001b[0m\u001b[0m\n\u001b[1;32m    330\u001b[0m             \u001b[0mferrs\u001b[0m \u001b[0;34m=\u001b[0m \u001b[0mnp\u001b[0m\u001b[0;34m.\u001b[0m\u001b[0mappend\u001b[0m\u001b[0;34m(\u001b[0m\u001b[0mferrs\u001b[0m\u001b[0;34m,\u001b[0m\u001b[0mnp\u001b[0m\u001b[0;34m.\u001b[0m\u001b[0mdouble\u001b[0m\u001b[0;34m(\u001b[0m\u001b[0mferr\u001b[0m\u001b[0;34m)\u001b[0m\u001b[0;34m)\u001b[0m\u001b[0;34m\u001b[0m\u001b[0;34m\u001b[0m\u001b[0m\n\u001b[0;32m--> 331\u001b[0;31m             \u001b[0minstruments\u001b[0m \u001b[0;34m=\u001b[0m \u001b[0mnp\u001b[0m\u001b[0;34m.\u001b[0m\u001b[0mappend\u001b[0m\u001b[0;34m(\u001b[0m\u001b[0minstruments\u001b[0m\u001b[0;34m,\u001b[0m\u001b[0minstrument\u001b[0m\u001b[0;34m.\u001b[0m\u001b[0msplit\u001b[0m\u001b[0;34m(\u001b[0m\u001b[0;34m)\u001b[0m\u001b[0;34m[\u001b[0m\u001b[0;36m0\u001b[0m\u001b[0;34m]\u001b[0m\u001b[0;34m)\u001b[0m\u001b[0;34m\u001b[0m\u001b[0;34m\u001b[0m\u001b[0m\n\u001b[0m\u001b[1;32m    332\u001b[0m             \u001b[0;32mif\u001b[0m \u001b[0minstrument\u001b[0m\u001b[0;34m.\u001b[0m\u001b[0msplit\u001b[0m\u001b[0;34m(\u001b[0m\u001b[0;34m)\u001b[0m\u001b[0;34m[\u001b[0m\u001b[0;36m0\u001b[0m\u001b[0;34m]\u001b[0m \u001b[0;32mnot\u001b[0m \u001b[0;32min\u001b[0m \u001b[0minstrument_names\u001b[0m\u001b[0;34m:\u001b[0m\u001b[0;34m\u001b[0m\u001b[0;34m\u001b[0m\u001b[0m\n\u001b[1;32m    333\u001b[0m                 \u001b[0minstrument_names\u001b[0m\u001b[0;34m.\u001b[0m\u001b[0mappend\u001b[0m\u001b[0;34m(\u001b[0m\u001b[0minstrument\u001b[0m\u001b[0;34m.\u001b[0m\u001b[0msplit\u001b[0m\u001b[0;34m(\u001b[0m\u001b[0;34m)\u001b[0m\u001b[0;34m[\u001b[0m\u001b[0;36m0\u001b[0m\u001b[0;34m]\u001b[0m\u001b[0;34m)\u001b[0m\u001b[0;34m\u001b[0m\u001b[0;34m\u001b[0m\u001b[0m\n",
      "\u001b[0;32m<__array_function__ internals>\u001b[0m in \u001b[0;36mappend\u001b[0;34m(*args, **kwargs)\u001b[0m\n",
      "\u001b[0;32m~/anaconda3/lib/python3.8/site-packages/numpy/lib/function_base.py\u001b[0m in \u001b[0;36mappend\u001b[0;34m(arr, values, axis)\u001b[0m\n\u001b[1;32m   4743\u001b[0m         \u001b[0mvalues\u001b[0m \u001b[0;34m=\u001b[0m \u001b[0mravel\u001b[0m\u001b[0;34m(\u001b[0m\u001b[0mvalues\u001b[0m\u001b[0;34m)\u001b[0m\u001b[0;34m\u001b[0m\u001b[0;34m\u001b[0m\u001b[0m\n\u001b[1;32m   4744\u001b[0m         \u001b[0maxis\u001b[0m \u001b[0;34m=\u001b[0m \u001b[0marr\u001b[0m\u001b[0;34m.\u001b[0m\u001b[0mndim\u001b[0m\u001b[0;34m-\u001b[0m\u001b[0;36m1\u001b[0m\u001b[0;34m\u001b[0m\u001b[0;34m\u001b[0m\u001b[0m\n\u001b[0;32m-> 4745\u001b[0;31m     \u001b[0;32mreturn\u001b[0m \u001b[0mconcatenate\u001b[0m\u001b[0;34m(\u001b[0m\u001b[0;34m(\u001b[0m\u001b[0marr\u001b[0m\u001b[0;34m,\u001b[0m \u001b[0mvalues\u001b[0m\u001b[0;34m)\u001b[0m\u001b[0;34m,\u001b[0m \u001b[0maxis\u001b[0m\u001b[0;34m=\u001b[0m\u001b[0maxis\u001b[0m\u001b[0;34m)\u001b[0m\u001b[0;34m\u001b[0m\u001b[0;34m\u001b[0m\u001b[0m\n\u001b[0m\u001b[1;32m   4746\u001b[0m \u001b[0;34m\u001b[0m\u001b[0m\n\u001b[1;32m   4747\u001b[0m \u001b[0;34m\u001b[0m\u001b[0m\n",
      "\u001b[0;32m<__array_function__ internals>\u001b[0m in \u001b[0;36mconcatenate\u001b[0;34m(*args, **kwargs)\u001b[0m\n",
      "\u001b[0;31mKeyboardInterrupt\u001b[0m: "
     ]
    }
   ],
   "metadata": {}
  },
  {
   "cell_type": "code",
   "execution_count": null,
   "source": [
    "# Creating result object\n",
    "res1 = dataset.fit(sampler='dynamic_dynesty')"
   ],
   "outputs": [],
   "metadata": {}
  },
  {
   "cell_type": "code",
   "execution_count": null,
   "source": [
    "# Making phases\n",
    "P, t0 = np.median(res1.posteriors['posterior_samples']['P_p1']),\\\n",
    "        np.median(res1.posteriors['posterior_samples']['t0_p1'])"
   ],
   "outputs": [],
   "metadata": {}
  },
  {
   "cell_type": "code",
   "execution_count": null,
   "source": [
    "# Sector\n",
    "sec = 'TESS3'\n",
    "\n",
    "# Phases\n",
    "phases = jl.get_phases(dataset.times_lc[sec], P, t0)\n",
    "\n",
    "# Extract full model:\n",
    "transit_plus_GP_model = res1.lc.evaluate(sec)\n",
    "\n",
    "# Deterministic part of the model (in our case transit divided by mflux):\n",
    "transit_model = res1.lc.model[sec]['deterministic']\n",
    "fac = 1/np.max(transit_model)\n",
    "\n",
    "# GP part of the model:\n",
    "gp_model = res1.lc.model[sec]['GP']\n",
    "\n",
    "# Now plot. First preambles:\n",
    "fig = plt.figure(figsize=(20,4))\n",
    "gs = gridspec.GridSpec(1, 2, width_ratios=[2,1])\n",
    "ax1 = plt.subplot(gs[0])\n",
    "\n",
    "# Plot data\n",
    "ax1.errorbar(dataset.times_lc[sec], dataset.data_lc[sec]*fac, \\\n",
    "             yerr = dataset.errors_lc[sec]*fac, fmt = '.', alpha = 0.1)\n",
    "\n",
    "# Plot the (full, transit + GP) model:\n",
    "ax1.plot(dataset.times_lc[sec], transit_plus_GP_model, color='black',zorder=10)\n",
    "\n",
    "#ax1.set_xlim([1328,1350])\n",
    "#ax1.set_ylim([0.96,1.04])\n",
    "ax1.set_xlabel('Time (BJD - 2457000)')\n",
    "ax1.set_ylabel('Relative flux')\n",
    "\n",
    "ax2 = plt.subplot(gs[1])\n",
    "\n",
    "# Now plot phase-folded lightcurve but with the GP part removed:\n",
    "ax2.errorbar(phases, dataset.data_lc[sec]*fac - gp_model, \\\n",
    "             yerr = dataset.errors_lc[sec]*fac, fmt = '.', alpha = 0.3)\n",
    "\n",
    "# Plot transit-only (divided by mflux) model:\n",
    "idx = np.argsort(phases)\n",
    "ax2.plot(phases[idx],transit_model[idx]*fac, color='black',zorder=10)\n",
    "ax2.yaxis.set_major_formatter(plt.NullFormatter())\n",
    "ax2.set_xlabel('Phases')\n",
    "ax2.set_xlim([-0.025,0.025])\n",
    "#ax2.set_ylim([0.96,1.04])"
   ],
   "outputs": [],
   "metadata": {}
  },
  {
   "cell_type": "code",
   "execution_count": null,
   "source": [
    "# Sector\n",
    "sec = 'TESS3'\n",
    "\n",
    "# Phases\n",
    "phases = jl.get_phases(dataset.times_lc[sec], P, t0)\n",
    "\n",
    "data_phs = dataset.data_lc[sec]*fac - gp_model\n",
    "data_err_phs = dataset.errors_lc[sec]*fac\n",
    "\n",
    "resid = (data_phs - transit_model*fac)*1e6\n",
    "\n",
    "fig_a = plt.figure(figsize = (8,10))\n",
    "gs_a = gridspec.GridSpec(2, 1, height_ratios = [4,1])\n",
    "\n",
    "ax11 = plt.subplot(gs_a[0])\n",
    "ax11.errorbar(phases, data_phs, yerr=data_err_phs, fmt='.', alpha=0.3)\n",
    "ax11.plot(phases[idx], transit_model[idx]*fac, c='black', zorder=10)\n",
    "ax11.set_ylabel('Relative Flux')\n",
    "\n",
    "ax22 = plt.subplot(gs_a[1], sharex = ax11)\n",
    "ax22.errorbar(phases, resid, fmt='.', alpha=0.3)\n",
    "ax22.axhline(y=0.0, c='black', ls='--')\n",
    "ax22.set_ylabel('Residuals (ppm)')\n",
    "\n",
    "\n",
    "plt.xlim([-0.025, 0.025])\n",
    "plt.xlabel('Phase')\n",
    "plt.tight_layout()\n",
    "plt.savefig('phot_planet1_instrument_TESS.pdf')"
   ],
   "outputs": [],
   "metadata": {}
  },
  {
   "cell_type": "code",
   "execution_count": null,
   "source": [
    "# Sector\n",
    "sec = 'TESS3'\n",
    "\n",
    "# Phases\n",
    "phases = jl.get_phases(dataset.times_lc[sec], P, t0)\n",
    "\n",
    "# Extract full model:\n",
    "transit_plus_GP_model, errup, errdo = res1.lc.evaluate(sec, t=dataset.times_lc[sec], GPregressors=dataset.times_lc[sec], return_err=True)\n",
    "\n",
    "# Deterministic part of the model (in our case transit divided by mflux):\n",
    "transit_model = res1.lc.model[sec]['deterministic']\n",
    "model_ue = res1.lc.model[sec]['deterministic_uerror']\n",
    "model_le = res1.lc.model[sec]['deterministic_lerror']\n",
    "\n",
    "# For normalisation\n",
    "fac = 1/np.max(transit_model)\n",
    "\n",
    "# GP part of the model:\n",
    "gp_model = res1.lc.model[sec]['GP']\n",
    "\n",
    "data_phs = (dataset.data_lc[sec] - gp_model)*fac\n",
    "data_err_phs = dataset.errors_lc[sec]*fac\n",
    "\n",
    "resid = (data_phs - transit_model*fac)*1e6\n",
    "\n",
    "fig_a = plt.figure(figsize = (8,10))\n",
    "gs_a = gridspec.GridSpec(2, 1, height_ratios = [4,1])\n",
    "\n",
    "ax11 = plt.subplot(gs_a[0])\n",
    "ax11.errorbar(phases, data_phs, yerr=data_err_phs, fmt='.', alpha=0.3)\n",
    "ax11.plot(phases[idx], transit_model[idx]*fac, c='black', zorder=10)\n",
    "ax11.fill_between(phases[idx], errup[idx], errdo[idx], color='red', alpha=0.5, zorder=5)\n",
    "ax11.set_ylabel('Relative Flux')\n",
    "\n",
    "ax22 = plt.subplot(gs_a[1], sharex = ax11)\n",
    "ax22.errorbar(phases, resid, fmt='.', alpha=0.3)\n",
    "ax22.axhline(y=0.0, c='black', ls='--')\n",
    "ax22.set_ylabel('Residuals (ppm)')\n",
    "\n",
    "\n",
    "plt.xlim([-0.025, 0.025])\n",
    "plt.xlabel('Phase')"
   ],
   "outputs": [],
   "metadata": {}
  }
 ],
 "metadata": {
  "orig_nbformat": 4,
  "language_info": {
   "name": "python",
   "version": "3.8.8",
   "mimetype": "text/x-python",
   "codemirror_mode": {
    "name": "ipython",
    "version": 3
   },
   "pygments_lexer": "ipython3",
   "nbconvert_exporter": "python",
   "file_extension": ".py"
  },
  "kernelspec": {
   "name": "python3",
   "display_name": "Python 3.8.8 64-bit ('base': conda)"
  },
  "interpreter": {
   "hash": "77308f10e778eec9a13a21206849a589a8c13410aaae2405e5051cd249c67e86"
  }
 },
 "nbformat": 4,
 "nbformat_minor": 2
}