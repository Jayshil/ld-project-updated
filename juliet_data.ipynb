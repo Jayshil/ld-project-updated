{
 "cells": [
  {
   "source": [
    "# To store the literature data of the analysed parameters"
   ],
   "cell_type": "markdown",
   "metadata": {}
  },
  {
   "cell_type": "code",
   "execution_count": 2,
   "id": "detailed-prize",
   "metadata": {},
   "outputs": [],
   "source": [
    "import numpy as np\n",
    "import pandas as pd\n",
    "import os"
   ]
  },
  {
   "source": [
    "First, let's find the name of the analysed targets, below we do that, and stored it in an array `name`"
   ],
   "cell_type": "markdown",
   "metadata": {}
  },
  {
   "cell_type": "code",
   "execution_count": 2,
   "id": "protecting-disco",
   "metadata": {},
   "outputs": [],
   "source": [
    "name = np.loadtxt(os.getcwd() + '/results.dat', usecols=0, dtype=str, unpack=True)\n",
    "print('Number of the analysed targets: ', len(name))\n",
    "print('List of the analysed targets: \\n', name)"
   ]
  },
  {
   "source": [
    "Now, loading the whole literature dataset of _all known_ exoplanets (downloaded from NASA exoplanet archieve)"
   ],
   "cell_type": "markdown",
   "metadata": {}
  },
  {
   "cell_type": "code",
   "execution_count": 3,
   "id": "bacterial-packing",
   "metadata": {},
   "outputs": [],
   "source": [
    "data = np.genfromtxt(os.getcwd() + '/Req_data.csv', delimiter=',', dtype=str)\n",
    "print('Shape of the literature dataset: ', data.shape)\n",
    "print('Length of one raw: ', len(data[1500]))\n",
    "print('1500th row: ', data[1500])"
   ]
  },
  {
   "cell_type": "code",
   "execution_count": 4,
   "id": "prostate-environment",
   "metadata": {},
   "outputs": [
    {
     "name": "stdout",
     "output_type": "stream",
     "text": [
      "(21,)\n"
     ]
    }
   ],
   "source": [
    "data_new = data[1500]"
   ]
  },
  {
   "cell_type": "code",
   "execution_count": null,
   "id": "fallen-yemen",
   "metadata": {},
   "outputs": [],
   "source": [
    "lit_name1 = data[0]\n",
    "lit_name = np.array([])\n",
    "for i in range(len(lit_name1)):\n",
    "    abc = lit_name1.replace(' ', '')\n",
    "    lit_name = np.hstack((lit_name, abc))\n",
    "\n",
    "print('Length of the names of all known planets: ', len(lit_name))\n",
    "print('List of the names of all known planets: ', lit_name)"
   ]
  },
  {
   "cell_type": "code",
   "execution_count": null,
   "metadata": {},
   "outputs": [],
   "source": [
    "We now compare the data of names of the "
   ]
  }
 ],
 "metadata": {
  "kernelspec": {
   "display_name": "Python 3",
   "language": "python",
   "name": "python3"
  }
 },
 "nbformat": 4,
 "nbformat_minor": 5
}