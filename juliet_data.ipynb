{
 "cells": [
  {
   "cell_type": "markdown",
   "id": "falling-closing",
   "metadata": {},
   "source": [
    "# To store the literature data of the analysed parameters"
   ]
  },
  {
   "cell_type": "code",
   "execution_count": 1,
   "id": "detailed-prize",
   "metadata": {},
   "outputs": [],
   "source": [
    "import numpy as np\n",
    "import pandas as pd\n",
    "import os"
   ]
  },
  {
   "cell_type": "markdown",
   "id": "elder-vietnamese",
   "metadata": {},
   "source": [
    "First, let's find the name of the analysed targets, below we do that, and stored it in an array `name`"
   ]
  },
  {
   "cell_type": "code",
   "execution_count": 2,
   "id": "protecting-disco",
   "metadata": {},
   "outputs": [
    {
     "name": "stdout",
     "output_type": "stream",
     "text": [
      "Number of the analysed targets:  176\n",
      "List of the analysed targets: \n",
      " ['WASP-61b' 'WASP-130b' 'HATS-13b' 'WASP-156b' 'NGTS-4b' 'WASP-190b'\n",
      " 'WASP-44b' 'TOI-892b' 'WASP-82b' 'TOI-540b' 'WASP-22b' 'TOI-905b'\n",
      " 'HAT-P-42b' 'WASP-62b' 'HATS-3b' 'LTT9779b' 'K2-260b' 'TrES-3b'\n",
      " 'Qatar-10b' 'WASP-144b' 'HD221416b' 'WASP-182b' 'HAT-P-5b' 'WASP-15b'\n",
      " 'WASP-73b' 'HD1397b' 'K2-115b' 'WASP-161b' 'HATS-24b' 'WASP-79b' 'XO-3b'\n",
      " 'KELT-8b' 'HATS-42b' 'HAT-P-36b' 'KELT-1b' 'WASP-16b' 'WASP-99b'\n",
      " 'HD2685b' 'WASP-121b' 'HAT-P-50b' 'TOI-954b' 'HATS-27b' 'WASP-93b'\n",
      " 'HATS-41b' 'HATS-29b' 'HATS-60b' 'HAT-P-2b' 'WASP-97b' 'HATS-45b'\n",
      " 'WASP-166b' 'HATS-63b' 'HAT-P-31b' 'TOI-1728b' 'L168-9b' 'HATS-46b'\n",
      " 'TOI-481b' 'LP714-47b' 'XO-7b' 'HATS-69b' 'TOI-824b' 'HATS-14b'\n",
      " 'HAT-P-69b' 'HATS-7b' 'WASP-6b' 'WASP-66b' 'WASP-25b' 'WASP-43b'\n",
      " 'GJ1252b' 'KELT-12b' 'TOI-122b' 'HATS-57b' 'HATS-4b' 'HD332231b'\n",
      " 'CoRoT-19b' 'HATS-17b' 'HATS-71b' 'WASP-5b' 'HATS-32b' 'KELT-11b'\n",
      " 'CoRoT-13b' 'HATS-5b' 'NGTS-1b' 'WASP-153b' 'HATS-16b' 'CoRoT-18b'\n",
      " 'WASP-135b' 'HATS-39b' 'HATS-70b' 'WASP-4b' 'TOI-837b' 'HATS-33b'\n",
      " 'CoRoT-12b' 'HATS-55b' 'WASP-159b' 'TOI-169b' 'WASP-150b' 'WASP-119b'\n",
      " 'WASP-48b' 'HATS-6b' 'HAT-P-21b' 'WASP-7b' 'WASP-136b' 'HD219666b'\n",
      " 'LHS3844b' 'WASP-42b' 'WASP-113b' 'KELT-7b' 'WASP-141b' 'KPS-1b'\n",
      " 'HATS-47b' 'LHS1815b' 'WASP-95b' 'TOI-132b' 'K2-237b' 'XO-6b' 'WASP-35b'\n",
      " 'HATS-68b' 'HAT-P-55b' 'KELT-24b' 'WASP-124b' 'HATS-28b' 'WASP-142b'\n",
      " 'WASP-13b' 'HAT-P-70b' 'WASP-50b' 'HAT-P-9b' 'WASP-19b' 'HATS-44b'\n",
      " 'WASP-96b' 'WASP-101b' 'HATS-22b' 'WASP-167b' 'TOI-157b' 'WASP-17b'\n",
      " 'TOI-677b' 'WASP-169b' 'KELT-20b' 'WASP-120b' 'WASP-71b' 'HAT-P-18b'\n",
      " 'HAT-P-12b' 'XO-1b' 'TOI-251b' 'HATS-26b' 'HATS-40b' 'CoRoTID223977153b'\n",
      " 'WASP-92b' 'WASP-105b' 'TOI-237b' 'HAT-P-34b' 'WASP-72b' 'HATS-66b'\n",
      " 'HATS-25b' 'TOI-1235b' 'WASP-31b' 'WASP-78b' 'HATS-43b' 'WASP-91b'\n",
      " 'WASP-106b' 'WASP-132b' 'WASP-63b' 'HAT-P-43b' 'K2-261b' 'HATS-2b'\n",
      " 'WASP-117b' 'HAT-P-66b' 'WASP-46b' 'Qatar-1b' 'HATS-34b' 'WASP-138b'\n",
      " 'WASP-29b' 'WASP-131b' 'WASP-83b' 'HATS-18b' 'HATS-51b' 'KELT-14b']\n"
     ]
    }
   ],
   "source": [
    "name = np.loadtxt(os.getcwd() + '/Data/results.dat', usecols=0, dtype=str, unpack=True)\n",
    "print('Number of the analysed targets: ', len(name))\n",
    "print('List of the analysed targets: \\n', name)"
   ]
  },
  {
   "cell_type": "markdown",
   "id": "unusual-subsection",
   "metadata": {},
   "source": [
    "Now, loading the whole literature dataset of _all known_ exoplanets (downloaded from NASA exoplanet archieve)"
   ]
  },
  {
   "cell_type": "code",
   "execution_count": 3,
   "id": "bacterial-packing",
   "metadata": {},
   "outputs": [
    {
     "name": "stdout",
     "output_type": "stream",
     "text": [
      "Shape of the literature dataset:  (1745, 15)\n",
      "Length of one raw:  15\n",
      "1500th row:  ['Kepler-942 b' 'TIC 271349932' '44.96417488' '6.962E-05' '0' ''\n",
      " '2454977.55876' '0.00122' '70.29' '1.2' '0.02609' '0.00269' '4861' '0.09'\n",
      " '4.59']\n"
     ]
    }
   ],
   "source": [
    "data = np.genfromtxt(os.getcwd() + '/Data/Req_data.csv', delimiter=',', dtype=str)\n",
    "print('Shape of the literature dataset: ', data.shape)\n",
    "print('Length of one raw: ', len(data[1500]))\n",
    "print('1500th row: ', data[1500])"
   ]
  },
  {
   "cell_type": "code",
   "execution_count": 4,
   "id": "prostate-environment",
   "metadata": {},
   "outputs": [
    {
     "name": "stdout",
     "output_type": "stream",
     "text": [
      "['ABC' 'Kepler-942 b' 'TIC 271349932' '44.96417488' '6.962E-05' '0' ''\n",
      " '2454977.55876' '0.00122' '70.29' '1.2' '0.02609' '0.00269' '4861' '0.09'\n",
      " '4.59']\n"
     ]
    }
   ],
   "source": [
    "data_new1 = data[1500]\n",
    "data_new2 = np.array(['ABC'])\n",
    "data_new = np.hstack((data_new2, data_new1))\n",
    "print(data_new)"
   ]
  },
  {
   "cell_type": "code",
   "execution_count": 5,
   "id": "fallen-yemen",
   "metadata": {},
   "outputs": [
    {
     "name": "stdout",
     "output_type": "stream",
     "text": [
      "Length of the names of all known planets:  1745\n",
      "List of the names of all known planets:  ['AUMicb' 'BD+20594b' 'CoRoT-1b' ... 'XO-5b' 'XO-6b' 'XO-7b']\n"
     ]
    }
   ],
   "source": [
    "lit_name1 = data[:,0]\n",
    "lit_name = np.array([])\n",
    "for i in range(len(lit_name1)):\n",
    "    abc = lit_name1[i].replace(' ', '')\n",
    "    lit_name = np.hstack((lit_name, abc))\n",
    "\n",
    "print('Length of the names of all known planets: ', len(lit_name))\n",
    "print('List of the names of all known planets: ', lit_name)"
   ]
  },
  {
   "cell_type": "markdown",
   "id": "electronic-flight",
   "metadata": {},
   "source": [
    "We now compare the data of names of the analysed planets with the literature dataset and extract the literature parameters of analysed planets and store it in a csv file. Remember that the first row in this file will be a dummy raw -- do not forget to remove it from the csv file!! Further, the first column of the array would be a name of the target from the analysed dataset -- just to check if it is working properly or not."
   ]
  },
  {
   "cell_type": "code",
   "execution_count": 6,
   "id": "electrical-chile",
   "metadata": {},
   "outputs": [],
   "source": [
    "for i in range(len(name)):\n",
    "    n22 = name[i]\n",
    "    for j in range(len(lit_name)):\n",
    "        if n22 == lit_name[j]:\n",
    "            cde = data[j]\n",
    "            efg = np.asarray(cde)\n",
    "            xyz = np.hstack((n22, efg))\n",
    "            data_new = np.vstack((data_new, xyz))"
   ]
  },
  {
   "cell_type": "code",
   "execution_count": 7,
   "id": "tropical-bracket",
   "metadata": {},
   "outputs": [
    {
     "name": "stdout",
     "output_type": "stream",
     "text": [
      "Shape of the resultant array (should be 177x16):  (177, 16)\n",
      "And the data is look like: \n",
      " [['ABC' 'Kepler-942 b' 'TIC 271349932' ... '4861' '0.09' '4.59']\n",
      " ['WASP-61b' 'WASP-61 b' 'TIC 13021029' ... '6250' '-0.1' '4.26']\n",
      " ['WASP-130b' 'WASP-130 b' 'TIC 243200602' ... '5625' '0.26' '4.49']\n",
      " ...\n",
      " ['HATS-18b' 'HATS-18 b' 'TIC 14614418' ... '5600' '0.28' '4.44']\n",
      " ['HATS-51b' 'HATS-51 b' 'TIC 53458803' ... '5758' '' '4.2']\n",
      " ['KELT-14b' 'KELT-14 b' 'TIC 134537478' ... '5720' '0.32' '4.17']]\n"
     ]
    }
   ],
   "source": [
    "print('Shape of the resultant array (should be 177x16): ', data_new.shape)\n",
    "print('And the data is look like: \\n', data_new)"
   ]
  },
  {
   "cell_type": "markdown",
   "id": "rational-assembly",
   "metadata": {},
   "source": [
    "saving it in a csv file..."
   ]
  },
  {
   "cell_type": "code",
   "execution_count": 8,
   "id": "disciplinary-electron",
   "metadata": {},
   "outputs": [],
   "source": [
    "pd.DataFrame(data_new).to_csv(os.getcwd() + '/Data/lit_data.csv')"
   ]
  }
 ],
 "metadata": {
  "kernelspec": {
   "display_name": "Python 3",
   "language": "python",
   "name": "python3"
  },
  "language_info": {
   "codemirror_mode": {
    "name": "ipython",
    "version": 3
   },
   "file_extension": ".py",
   "mimetype": "text/x-python",
   "name": "python",
   "nbconvert_exporter": "python",
   "pygments_lexer": "ipython3",
   "version": "3.7.9"
  }
 },
 "nbformat": 4,
 "nbformat_minor": 5
}
