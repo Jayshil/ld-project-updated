{
 "cells": [
  {
   "cell_type": "code",
   "execution_count": 1,
   "id": "detailed-prize",
   "metadata": {},
   "outputs": [],
   "source": [
    "import numpy as np"
   ]
  },
  {
   "cell_type": "code",
   "execution_count": 2,
   "id": "protecting-disco",
   "metadata": {},
   "outputs": [],
   "source": [
    "name = np.loadtxt('data2.dat', usecols=0, dtype=str, unpack=True)"
   ]
  },
  {
   "cell_type": "code",
   "execution_count": 3,
   "id": "bacterial-packing",
   "metadata": {},
   "outputs": [],
   "source": [
    "data = np.genfromtxt('Sec32_data_updated.csv', delimiter=',', dtype=str)"
   ]
  },
  {
   "cell_type": "code",
   "execution_count": 4,
   "id": "prostate-environment",
   "metadata": {},
   "outputs": [
    {
     "name": "stdout",
     "output_type": "stream",
     "text": [
      "(21,)\n"
     ]
    }
   ],
   "source": [
    "print(data[0].shape)"
   ]
  },
  {
   "cell_type": "code",
   "execution_count": 5,
   "id": "alive-trading",
   "metadata": {},
   "outputs": [
    {
     "name": "stdout",
     "output_type": "stream",
     "text": [
      "['Kepler-952 b' 'Kepler-952' 'TIC 120495241' '130.3546919' '0.0002069' '0'\n",
      " '' '2454977.06014' '0.00115' '175' '14' '0.07138' '0.00014' '' '' '5730'\n",
      " '0.06' '4.45' '285.371878' '41.99387' '4']\n"
     ]
    }
   ],
   "source": [
    "print(data[1500])"
   ]
  },
  {
   "cell_type": "code",
   "execution_count": 6,
   "id": "novel-termination",
   "metadata": {},
   "outputs": [
    {
     "name": "stdout",
     "output_type": "stream",
     "text": [
      "\n",
      "False\n"
     ]
    }
   ],
   "source": [
    "print(data[1500][14])\n",
    "\n",
    "a = data[1500][14]\n",
    "print(a != '')"
   ]
  },
  {
   "cell_type": "code",
   "execution_count": 7,
   "id": "several-equity",
   "metadata": {},
   "outputs": [],
   "source": [
    "#0 = Planet_name, pl_name\n",
    "#1 = hostname, hostname\n",
    "#2 = tic_id, tic_id\n",
    "#3 = Period, pl_orbper\n",
    "#4 = Period_err, pl_orbpererr\n",
    "#5 = ecc, pl_orbeccen\n",
    "#6 = ecc_err, pl_prbeccenerr\n",
    "#7 = Tc, pl_tranmid\n",
    "#8 = Tc_err, pl_tranmiderr\n",
    "#9 = a/R*, pl_rotdor\n",
    "#10 = a/R*_err, pl_rotdorerr\n",
    "#11 = Rp/R*, pl_rotror\n",
    "#12 = Rp/R*_err, pl_rotrorerr\n",
    "#13 = omega, pl_orblper\n",
    "#14 = Omega_err, pl_orblpererr\n",
    "#15 = Teff, st_teff\n",
    "#16 = MH, st_met\n",
    "#17 = lg, st_logg\n",
    "#18 = RA\n",
    "#19 = DEC\n",
    "#20 = sum\n",
    "\n",
    "# name2[i] + '\\t' + data[i][2] + '\\t' + data[i][3] + '\\t' + data[i][4] + '\\t' + \\\n",
    "                     #data[i][7] + '\\t' + data[i][8] + '\\t' + data[i][5] + '\\t' + data[i][6] + \\\n",
    "                     #data[i][13] + '\\t' + data[i][14] + '\\n'"
   ]
  },
  {
   "cell_type": "code",
   "execution_count": 8,
   "id": "descending-filename",
   "metadata": {},
   "outputs": [],
   "source": [
    "name1 = data[:,1]\n",
    "name2 = np.array([])\n",
    "for i in range(len(name1)):\n",
    "    aa = name1[i].replace(' ', '')\n",
    "    name2 = np.hstack((name2, aa))"
   ]
  },
  {
   "cell_type": "code",
   "execution_count": 9,
   "id": "communist-measurement",
   "metadata": {},
   "outputs": [
    {
     "name": "stdout",
     "output_type": "stream",
     "text": [
      "['AUMic' 'BD+20594' 'CoRoT-1' ... 'XO-5' 'XO-6' 'XO-7']\n"
     ]
    }
   ],
   "source": [
    "print(name2)"
   ]
  },
  {
   "cell_type": "code",
   "execution_count": 10,
   "id": "unsigned-romance",
   "metadata": {},
   "outputs": [],
   "source": [
    "tic1 = data[:,2]\n",
    "tic2 = np.array([])\n",
    "for i in range(len(tic1)):\n",
    "    aa = tic1[i].replace(' ', '-')\n",
    "    tic2 = np.hstack((tic2, aa))"
   ]
  },
  {
   "cell_type": "code",
   "execution_count": 11,
   "id": "assisted-knock",
   "metadata": {},
   "outputs": [
    {
     "name": "stdout",
     "output_type": "stream",
     "text": [
      "['TIC-441420236' 'TIC-26123781' 'TIC-36352297' ... 'TIC-9155187'\n",
      " 'TIC-138168780' 'TIC-268403451']\n"
     ]
    }
   ],
   "source": [
    "print(tic2)"
   ]
  },
  {
   "cell_type": "code",
   "execution_count": 12,
   "id": "characteristic-independence",
   "metadata": {},
   "outputs": [
    {
     "name": "stdout",
     "output_type": "stream",
     "text": [
      "53\n"
     ]
    }
   ],
   "source": [
    "perr = data[:,4]\n",
    "perr1 = np.copy(perr)\n",
    "\n",
    "for i in range(len(perr)):\n",
    "    if perr1[i] == '':\n",
    "        perr1[i] = '0'\n",
    "aaa = np.array([])        \n",
    "for i in range(len(perr)):\n",
    "    if perr[i] != perr1[i]:\n",
    "        aaa = np.hstack((aaa, 'yay'))\n",
    "        \n",
    "print(len(aaa))"
   ]
  },
  {
   "cell_type": "code",
   "execution_count": 13,
   "id": "dated-beginning",
   "metadata": {},
   "outputs": [],
   "source": [
    "f1 = open('Sec32_juliet_data_extended.dat', 'w')\n",
    "f1.write('#Name \\t TIC_ID \\t Period \\t Period_err \\t Tc \\t Tc_err \\t Ecc \\t Ome\\n')\n",
    "\n",
    "for i in range(len(data[:,0])):\n",
    "    if data[i][20] != '0' and data[i][3] != '' and tic2[i] != '' and data[i][7] != '' \\\n",
    "    and data[i][15] != '' and data[i][17] != '' and data[i][9] != '' and data[i][11] != '':\n",
    "        if data[i][5] == '' and data[i][13] == '':\n",
    "            if data[i][8] == '':\n",
    "                f1.write(name2[i] + '\\t' + tic2[i] + '\\t' + data[i][3] + '\\t' + perr1[i] + '\\t' + \\\n",
    "                     data[i][7] + '\\t' + str(0) + '\\t' + str(0) + '\\t' + \\\n",
    "                     str(90) + '\\n')\n",
    "            else:\n",
    "                f1.write(name2[i] + '\\t' + tic2[i] + '\\t' + data[i][3] + '\\t' + perr1[i] + '\\t' + \\\n",
    "                     data[i][7] + '\\t' + data[i][8] + '\\t' + str(0) + '\\t' + \\\n",
    "                     str(90) + '\\n')\n",
    "        elif data[i][5] == '' and data[i][13] != '':\n",
    "            if data[i][8] == '':\n",
    "                f1.write(name2[i] + '\\t' + tic2[i] + '\\t' + data[i][3] + '\\t' + perr1[i] + '\\t' + \\\n",
    "                     data[i][7] + '\\t' + str(0) + '\\t' + str(0) + '\\t' + \\\n",
    "                     data[i][13] + '\\n')\n",
    "            else:\n",
    "                f1.write(name2[i] + '\\t' + tic2[i] + '\\t' + data[i][3] + '\\t' + perr1[i] + '\\t' + \\\n",
    "                     data[i][7] + '\\t' + data[i][8] + '\\t' + str(0) + '\\t' + \\\n",
    "                     data[i][13] + '\\n')\n",
    "        elif data[i][5] != '' and data[i][13] == '':\n",
    "            if data[i][8] == '':\n",
    "                f1.write(name2[i] + '\\t' + tic2[i] + '\\t' + data[i][3] + '\\t' + perr1[i] + '\\t' + \\\n",
    "                     data[i][7] + '\\t' + str(0) + '\\t' + data[i][5] + '\\t' + \\\n",
    "                     str(90) + '\\n')\n",
    "            else:\n",
    "                f1.write(name2[i] + '\\t' + tic2[i] + '\\t' + data[i][3] + '\\t' + perr1[i] + '\\t' + \\\n",
    "                     data[i][7] + '\\t' + data[i][8] + '\\t' + data[i][5] + '\\t' + \\\n",
    "                     str(90) + '\\n')\n",
    "        else:\n",
    "            if data[i][8] == '':\n",
    "                f1.write(name2[i] + '\\t' + tic2[i] + '\\t' + data[i][3] + '\\t' + perr1[i] + '\\t' + \\\n",
    "                     data[i][7] + '\\t' + str(0) + '\\t' + data[i][5] + \\\n",
    "                     data[i][13] + '\\n')\n",
    "            else:\n",
    "                f1.write(name2[i] + '\\t' + tic2[i] + '\\t' + data[i][3] + '\\t' + perr1[i] + '\\t' + \\\n",
    "                     data[i][7] + '\\t' + data[i][8] + '\\t' + data[i][5] + '\\t' + \\\n",
    "                     data[i][13] + '\\n')\n",
    "\n",
    "f1.close()"
   ]
  },
  {
   "cell_type": "code",
   "execution_count": null,
   "id": "fallen-yemen",
   "metadata": {},
   "outputs": [],
   "source": []
  }
 ],
 "metadata": {
  "kernelspec": {
   "display_name": "Python 3",
   "language": "python",
   "name": "python3"
  },
  "language_info": {
   "codemirror_mode": {
    "name": "ipython",
    "version": 3
   },
   "file_extension": ".py",
   "mimetype": "text/x-python",
   "name": "python",
   "nbconvert_exporter": "python",
   "pygments_lexer": "ipython3",
   "version": "3.7.9"
  }
 },
 "nbformat": 4,
 "nbformat_minor": 5
}
