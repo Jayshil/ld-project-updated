{
 "metadata": {
  "language_info": {
   "codemirror_mode": {
    "name": "ipython",
    "version": 3
   },
   "file_extension": ".py",
   "mimetype": "text/x-python",
   "name": "python",
   "nbconvert_exporter": "python",
   "pygments_lexer": "ipython3",
   "version": "3.7.9"
  },
  "orig_nbformat": 2,
  "kernelspec": {
   "name": "python379jvsc74a57bd077308f10e778eec9a13a21206849a589a8c13410aaae2405e5051cd249c67e86",
   "display_name": "Python 3.7.9 64-bit ('base': conda)"
  }
 },
 "nbformat": 4,
 "nbformat_minor": 2,
 "cells": [
  {
   "source": [
    "# To add a new sets of targets"
   ],
   "cell_type": "markdown",
   "metadata": {}
  },
  {
   "cell_type": "code",
   "execution_count": 1,
   "metadata": {},
   "outputs": [],
   "source": [
    "import numpy as np\n",
    "import matplotlib.pyplot as plt\n",
    "import pandas as pd\n",
    "import os"
   ]
  },
  {
   "source": [
    "We first load the dataset of already analysed targets..."
   ],
   "cell_type": "markdown",
   "metadata": {}
  },
  {
   "cell_type": "code",
   "execution_count": 2,
   "metadata": {},
   "outputs": [
    {
     "output_type": "stream",
     "name": "stdout",
     "text": [
      "Total number of analysed exoplanets:  1444\nList of already analysed exoplanets (not necessarily kept in the final count):\n['CoRoT-1b' 'CoRoT-12b' 'CoRoT-13b' ... 'XO-5b' 'XO-6b' 'XO-7b']\n"
     ]
    }
   ],
   "source": [
    "al_name = np.loadtxt('already_analysed.dat', usecols=0, unpack=True, dtype=str)\n",
    "print('Total number of analysed exoplanets: ', len(al_name))\n",
    "print('List of already analysed exoplanets (not necessarily kept in the final count):')\n",
    "print(al_name)"
   ]
  },
  {
   "source": [
    "Now, loading the whole literature dataset of _all known_ exoplanets (downloaded from NASA exoplanet archieve)"
   ],
   "cell_type": "markdown",
   "metadata": {}
  },
  {
   "cell_type": "code",
   "execution_count": 3,
   "metadata": {},
   "outputs": [
    {
     "output_type": "stream",
     "name": "stdout",
     "text": [
      "Shape of the literature dataset:  (1745, 18)\nLength of one raw:  18\n1500th row:  ['Kepler-942 b' 'TIC 271349932' '44.96417488' '6.962E-05' '0' ''\n '2454977.55876' '0.00122' '70.29' '1.2' '0.02609' '0.00269' '4861' '0.09'\n '4.59' '294.9550809' '44.1499518' '4']\n"
     ]
    }
   ],
   "source": [
    "data = np.genfromtxt(os.getcwd() + '/Req_data.csv', delimiter=',', dtype=str)\n",
    "print('Shape of the literature dataset: ', data.shape)\n",
    "print('Length of one raw: ', len(data[1500]))\n",
    "print('1500th row: ', data[1500])"
   ]
  },
  {
   "cell_type": "code",
   "execution_count": 4,
   "metadata": {},
   "outputs": [
    {
     "output_type": "stream",
     "name": "stdout",
     "text": [
      "Length of the names of all known planets:  1745\nList of the names of all known planets:  ['AUMicb' 'BD+20594b' 'CoRoT-1b' ... 'XO-5b' 'XO-6b' 'XO-7b']\n"
     ]
    }
   ],
   "source": [
    "lit_name1 = data[:,0]\n",
    "lit_name = np.array([])\n",
    "for i in range(len(lit_name1)):\n",
    "    abc = lit_name1[i].replace(' ', '')\n",
    "    lit_name = np.hstack((lit_name, abc))\n",
    "\n",
    "print('Length of the names of all known planets: ', len(lit_name))\n",
    "print('List of the names of all known planets: ', lit_name)"
   ]
  },
  {
   "source": [
    "Now, making an array to check whether the target is observed by TESS or not, and another array for TIC-IDs."
   ],
   "cell_type": "markdown",
   "metadata": {}
  },
  {
   "cell_type": "code",
   "execution_count": 5,
   "metadata": {},
   "outputs": [
    {
     "output_type": "stream",
     "name": "stdout",
     "text": [
      "TESS observability array: \n['2' '0' '2' ... '1' '8' '15']\nTIC IDs: \n['TIC-441420236' 'TIC-26123781' 'TIC-36352297' ... 'TIC-9155187'\n 'TIC-138168780' 'TIC-268403451']\n"
     ]
    }
   ],
   "source": [
    "tess_obs = data[:,-1]\n",
    "print('TESS observability array: ')\n",
    "print(tess_obs)\n",
    "\n",
    "tic1 = data[:,1]\n",
    "tic_id = np.array([])\n",
    "for i in range(len(tic1)):\n",
    "    xyz = tic1[i].replace(' ', '-')\n",
    "    tic_id = np.hstack((tic_id, xyz))\n",
    "\n",
    "print('TIC IDs: ')\n",
    "print(tic_id)"
   ]
  },
  {
   "source": [
    "Writing a loop to exclude all those targets which are _not_ observed by TESS (which have '0' in `tess_obs`) and which are _already analysed_."
   ],
   "cell_type": "markdown",
   "metadata": {}
  },
  {
   "cell_type": "code",
   "execution_count": 6,
   "metadata": {},
   "outputs": [],
   "source": [
    "f2 = open('additional_data.dat', 'w')\n",
    "f3 = open('additional_data_sum.dat', 'w')\n",
    "\n",
    "for i in range(len(lit_name)):\n",
    "    if tess_obs[i] != '0':\n",
    "        nn2 = lit_name[i]\n",
    "        if nn2 in al_name:\n",
    "            continue\n",
    "        else:\n",
    "            f2.write(lit_name[i] + '\\t' + tic_id[i] + '\\n')\n",
    "            f3.write(lit_name[i] + '\\t' + tic_id[i] + '\\t' + tess_obs[i] + '\\n')\n",
    "\n",
    "f2.close()\n",
    "f3.close()"
   ]
  }
 ]
}